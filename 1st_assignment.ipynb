{
  "nbformat": 4,
  "nbformat_minor": 0,
  "metadata": {
    "colab": {
      "provenance": [],
      "toc_visible": true
    },
    "kernelspec": {
      "name": "python3",
      "display_name": "Python 3"
    },
    "language_info": {
      "name": "python"
    }
  },
  "cells": [
    {
      "cell_type": "markdown",
      "source": [
        "Assignmet No- 1 (PYTHON)"
      ],
      "metadata": {
        "id": "pZbwbfIIXRNf"
      }
    },
    {
      "cell_type": "markdown",
      "source": [
        "Q 1:- Explain the key features of Python that make it a popular choice for programming."
      ],
      "metadata": {
        "id": "5raVW4b2XTN2"
      }
    },
    {
      "cell_type": "markdown",
      "source": [
        "Ans:- Python is the programming language which is easy to understand and write, making it a popular choice among programmers and developers. There are some key features of Python:-\n",
        "\n",
        "1- Easy to learn- Python has a simple syntax that meke it very helpful for beginners. It's readibility and concise code structure also very helpful for new programmers to learn quickly.\n",
        "\n",
        "2- Versatile- Python can be used for various applications, such as web development, data analysis, machine learning, automation and more.\n",
        "\n",
        "3- High-levelLanguage- Python is a high-level language, it can abstracts away low level details, allowing developers to focus on the logic of their program without worrying about memory management.\n",
        "\n",
        "4- Interpreted language- Python code is interpreted line by line, making it easy to write and test code quickly.\n",
        "\n",
        "5- Largre Standard liberary- Python's extensive library collection.\n",
        "\n",
        "6- Dynamic typing- Python is the dynamically typed, which means you don't need to declare variable types before using them.\n",
        "\n",
        "7- Large Community- Python has an extensive and active community. ensuring there are to write plenty of resources available for learning and troubleshooting.\n",
        "\n",
        "8- Popular framework like Django (web developement) and tensorFlow (machine learning) make it easy to built robust applications quickly.\n",
        "\n",
        "These feature make Python an attractive choice for programmers, from beginners to experts and contribute to it's popularity in various industries and applications."
      ],
      "metadata": {
        "id": "CU4_OzMyXHYk"
      }
    },
    {
      "cell_type": "markdown",
      "source": [],
      "metadata": {
        "id": "LoMQgYimoi5M"
      }
    },
    {
      "cell_type": "markdown",
      "source": [
        "Q 2:- Describe the role of predefined keywords in Python and provide examples of how they are used in a\n",
        "program.\n"
      ],
      "metadata": {
        "id": "TGPg-b51wUlz"
      }
    },
    {
      "cell_type": "markdown",
      "source": [
        "Ans- Predefined key words are reserved words that have special meanings and are used to define the structure and logic of a program. These keywords are reserved and cannot be used as variables names and identifiers. Keywords are case-sensitive and cannot be redefined or overridden within a Python program.\n",
        "\n",
        "Here are some examples of predefined keywords in Python:-\n",
        "\n",
        "1- Control flow keywords- if, else, elif, for, while, break, continue.\n",
        "\n",
        "2- Function and modules keywords- Keywords such as def and class are used to define functions and classes, respectively.\n",
        "\n",
        "3- Data type keywords- Python Data types are the classification or categorization of data items. It represents the kind of value that tells what operations can be performed on a particular data.\n",
        "\n",
        "4- Exceptional handling keywords- try, except, finally, raise are used th handle errors and exceptions in a progarm.\n",
        "\n",
        "here are some examples of how these keywords are used in python-\n",
        "\n",
        "#Control flow keywords\n",
        "\n",
        "If a > 15:\n",
        "     print(\"a is greater than 7\")\n",
        "else:\n",
        "     print(\"x is less than or equal to 7\")\n",
        "     \n",
        "          "
      ],
      "metadata": {
        "id": "t8xGU2oqw45_"
      }
    },
    {
      "cell_type": "code",
      "source": [
        "a = 15\n",
        "if a > 7:\n",
        "     print(\"a is greater than 7\")\n",
        "else:\n",
        "     print(\"a is less than or equal to 7\")"
      ],
      "metadata": {
        "colab": {
          "base_uri": "https://localhost:8080/"
        },
        "id": "r_w7a7fQWj_Z",
        "outputId": "ba90d766-c293-4af5-9719-82a6cd6a7161"
      },
      "execution_count": null,
      "outputs": [
        {
          "output_type": "stream",
          "name": "stdout",
          "text": [
            "a is greater than 7\n"
          ]
        }
      ]
    },
    {
      "cell_type": "markdown",
      "source": [
        "#Functional and module keyword-\n"
      ],
      "metadata": {
        "id": "XFZ-MgsHXazh"
      }
    },
    {
      "cell_type": "code",
      "source": [
        "def greet(name):\n",
        "  return \"Hello,\" + name\n",
        "\n",
        "  print(greet(\"Monjolika\"))"
      ],
      "metadata": {
        "id": "XVUw118LXnLo"
      },
      "execution_count": null,
      "outputs": []
    },
    {
      "cell_type": "markdown",
      "source": [
        "#Data type keywords-"
      ],
      "metadata": {
        "id": "CdzHq-8HYb-K"
      }
    },
    {
      "cell_type": "code",
      "source": [
        "my_list = [1, 2, 3]"
      ],
      "metadata": {
        "id": "4jYbtbOMYypO"
      },
      "execution_count": null,
      "outputs": []
    },
    {
      "cell_type": "code",
      "source": [
        "my_dict = {\"name\":\"John\",\"age\":30}"
      ],
      "metadata": {
        "id": "i6HLMWxHZr4C"
      },
      "execution_count": null,
      "outputs": []
    },
    {
      "cell_type": "markdown",
      "source": [
        "#Looping"
      ],
      "metadata": {
        "id": "7t-M8YYyaV1G"
      }
    },
    {
      "cell_type": "code",
      "source": [
        "for i in range(5):\n",
        "  print(i)"
      ],
      "metadata": {
        "colab": {
          "base_uri": "https://localhost:8080/"
        },
        "id": "QF0B0umqafJk",
        "outputId": "7e1ec3f1-e198-4992-b818-861bc5220dac"
      },
      "execution_count": null,
      "outputs": [
        {
          "output_type": "stream",
          "name": "stdout",
          "text": [
            "0\n",
            "1\n",
            "2\n",
            "3\n",
            "4\n"
          ]
        }
      ]
    },
    {
      "cell_type": "markdown",
      "source": [
        "Q 3- Compare and contrast mutable and immutable objects in Python with examples."
      ],
      "metadata": {
        "id": "mLyAbjaucPED"
      }
    },
    {
      "cell_type": "markdown",
      "source": [
        "Ans-In Python, objects can be classified as either mutable or immutable based on whether their state (or value) can be modified after they are created.\n",
        "\n",
        "#Mutable object-\n",
        "\n",
        "Object those can be change after theire creation are called mutable object. when you modify a mutable object you are changing the original object in memory without creating a new object.\n",
        "\n",
        "Comman mutable object in Python- Lists, Dictionaries"
      ],
      "metadata": {
        "id": "vPXiqTbvcgXq"
      }
    },
    {
      "cell_type": "markdown",
      "source": [
        "#Example of a Mutable object"
      ],
      "metadata": {
        "id": "B7AoxP-ReDGl"
      }
    },
    {
      "cell_type": "code",
      "source": [
        "#List (Mutable object)\n",
        "\n",
        "my_list = [1, 2, 3]\n",
        "print(my_list)\n",
        "\n",
        "my_list[0] = 10\n",
        "print(my_list)"
      ],
      "metadata": {
        "colab": {
          "base_uri": "https://localhost:8080/"
        },
        "id": "WVb-v5IoeLTX",
        "outputId": "fa5a9bf6-9f8d-4ec5-adab-49ccf7b1fd17"
      },
      "execution_count": null,
      "outputs": [
        {
          "output_type": "stream",
          "name": "stdout",
          "text": [
            "[1, 2, 3]\n",
            "[10, 2, 3]\n"
          ]
        }
      ]
    },
    {
      "cell_type": "markdown",
      "source": [
        "#Immutable objects"
      ],
      "metadata": {
        "id": "u7ilVnaTejy1"
      }
    },
    {
      "cell_type": "markdown",
      "source": [
        "Immutable objects are those that cannot be changed after they are created. Any attempt to modify an immutable object results in the creation of a new object, rather than altering the original one.\n",
        "\n",
        "Common Immutable Objects in Python- Strigs, Tuples"
      ],
      "metadata": {
        "id": "gHmowmcPezYR"
      }
    },
    {
      "cell_type": "markdown",
      "source": [
        "#Examples of Immutable objects"
      ],
      "metadata": {
        "id": "YjRLI8UpfUoj"
      }
    },
    {
      "cell_type": "code",
      "source": [
        "# String (immutable object)\n",
        "full_name = \"atiq\"\n",
        "print(full_name)  # Output: atiq\n",
        "\n",
        "# Attempting to modify a string\n",
        "new_name = full_name.replace(\"a\", \"r\")\n",
        "print(new_name)  # Output: rtiq\n",
        "print(full_name)   # Output: atiq (original string remains unchanged)"
      ],
      "metadata": {
        "colab": {
          "base_uri": "https://localhost:8080/"
        },
        "id": "yuRd_eccfabN",
        "outputId": "8246d0d8-0f2a-4e59-9ff8-19eca56316d8"
      },
      "execution_count": null,
      "outputs": [
        {
          "output_type": "stream",
          "name": "stdout",
          "text": [
            "atiq\n",
            "rtiq\n",
            "atiq\n"
          ]
        }
      ]
    },
    {
      "cell_type": "markdown",
      "source": [
        "#Comparison Between Mutable and Immutable Objects"
      ],
      "metadata": {
        "id": "3-HOGlieg7x-"
      }
    },
    {
      "cell_type": "markdown",
      "source": [
        "Mutable objects-\n",
        "\n",
        "1. Can be modified after creation.\n",
        "2. Modifying does not create new objects.\n",
        "3. Faster for repeated modifications.\n",
        "4. Lists, Dictionaries, Sets.\n",
        "\n",
        "Immutable objects:-\n",
        "\n",
        "1. Cannot be modified after creation.\n",
        "2. Modifying creates new objects.\n",
        "3. Slower for repeated modifications due to new object creation.\n",
        "4. Strings, Tuples, Integers."
      ],
      "metadata": {
        "id": "EseTpTH3g96M"
      }
    },
    {
      "cell_type": "markdown",
      "source": [
        "Q 4- Discuss the different types of operators in Python and provide examples of how they are used?"
      ],
      "metadata": {
        "id": "9oMBAZo2iXkK"
      }
    },
    {
      "cell_type": "markdown",
      "source": [
        "Ans-Operators are special symbols or keywords that are used to carry out specific actions on numbers or variables in Python expressions.\n",
        "Python supports various types of operators, including arithmetic operators (+, -, *, /), comparison operators (==, !=, <, >), logical operators (and, or, not), assignment operators (=, +=, -=, *=, /=), etc.\n",
        "\n",
        "Here are some examples of operators in Python-\n",
        "\n"
      ],
      "metadata": {
        "id": "_dAKqQyiijZc"
      }
    },
    {
      "cell_type": "markdown",
      "source": [
        "#Arithmetic operator\n",
        "\n",
        "Arithmetic operators are used to perform basic mathematical operations such as addition, subtraction, multiplication, division, etc."
      ],
      "metadata": {
        "id": "UJL7urS7lTLD"
      }
    },
    {
      "cell_type": "code",
      "source": [
        "a = 21\n",
        "b = 10\n",
        "# Addition\n",
        "print (\"a + b : \", a + b)\n",
        "# Subtraction\n",
        "print (\"a - b : \", a - b)\n",
        "# Multiplication\n",
        "print (\"a * b : \", a * b)\n",
        "# Division\n",
        "print (\"a / b : \", a / b)\n",
        "# Modulus\n",
        "print (\"a % b : \", a % b)\n",
        "# Exponent\n",
        "print (\"a ** b : \", a ** b)\n",
        "# Floor Division\n",
        "print (\"a // b : \", a // b)\n"
      ],
      "metadata": {
        "colab": {
          "base_uri": "https://localhost:8080/"
        },
        "id": "_3TrpUT9lhkU",
        "outputId": "044868bf-6a36-4172-d467-2405efb4b69d"
      },
      "execution_count": null,
      "outputs": [
        {
          "output_type": "stream",
          "name": "stdout",
          "text": [
            "a + b :  31\n",
            "a - b :  11\n",
            "a * b :  210\n",
            "a / b :  2.1\n",
            "a % b :  1\n",
            "a ** b :  16679880978201\n",
            "a // b :  2\n"
          ]
        }
      ]
    },
    {
      "cell_type": "markdown",
      "source": [
        "#Comparison operators\n",
        "\n",
        "Comparison operators are used to compare two values. The result of a comparison operation is a Boolean value (True or False)."
      ],
      "metadata": {
        "id": "jtqYZItVlnl2"
      }
    },
    {
      "cell_type": "code",
      "source": [
        "a = 4\n",
        "b = 5\n",
        "# Equal\n",
        "print (\"a == b : \", a == b)\n",
        "# Not Equal\n",
        "print (\"a != b : \", a != b)\n",
        "# Greater Than\n",
        "print (\"a > b : \", a > b)\n",
        "# Less Than\n",
        "print (\"a < b : \", a < b)\n",
        "# Greater Than or Equal to\n",
        "print (\"a >= b : \", a >= b)\n",
        "# Less Than or Equal to\n",
        "print (\"a <= b : \", a <= b)\n"
      ],
      "metadata": {
        "colab": {
          "base_uri": "https://localhost:8080/"
        },
        "id": "AQ70xlCfl7ZO",
        "outputId": "65ca51e6-2ce2-4d5e-dc85-9e423044cd0f"
      },
      "execution_count": null,
      "outputs": [
        {
          "output_type": "stream",
          "name": "stdout",
          "text": [
            "a == b :  False\n",
            "a != b :  True\n",
            "a > b :  False\n",
            "a < b :  True\n",
            "a >= b :  False\n",
            "a <= b :  True\n"
          ]
        }
      ]
    },
    {
      "cell_type": "markdown",
      "source": [
        "#Assignment operatore-\n",
        "\n",
        "Assignment operators are used to assign values to variables. They can also be used to perform an operation and assign the result to the variable in one step."
      ],
      "metadata": {
        "id": "39HsZy00l-Hk"
      }
    },
    {
      "cell_type": "code",
      "source": [
        "# Assignment Operator\n",
        "a = 10\n",
        "# Addition Assignment\n",
        "a += 5\n",
        "print (\"a += 5 : \", a)\n",
        "# Subtraction Assignment\n",
        "a -= 5\n",
        "print (\"a -= 5 : \", a)\n",
        "# Multiplication Assignment\n",
        "a *= 5\n",
        "print (\"a *= 5 : \", a)\n",
        "# Division Assignment\n",
        "a /= 5\n",
        "print (\"a /= 5 : \",a)\n",
        "# Remainder Assignment\n",
        "a %= 3\n",
        "print (\"a %= 3 : \", a)\n",
        "# Exponent Assignment\n",
        "a **= 2\n",
        "print (\"a **= 2 : \", a)\n",
        "# Floor Division Assignment\n",
        "a //= 3\n",
        "print (\"a //= 3 : \", a)"
      ],
      "metadata": {
        "colab": {
          "base_uri": "https://localhost:8080/"
        },
        "id": "Ta4ddzKimKfi",
        "outputId": "fdd4f676-e446-4405-fb9c-e8458180d17d"
      },
      "execution_count": null,
      "outputs": [
        {
          "output_type": "stream",
          "name": "stdout",
          "text": [
            "a += 5 :  15\n",
            "a -= 5 :  10\n",
            "a *= 5 :  50\n",
            "a /= 5 :  10.0\n",
            "a %= 3 :  1.0\n",
            "a **= 2 :  1.0\n",
            "a //= 3 :  0.0\n"
          ]
        }
      ]
    },
    {
      "cell_type": "markdown",
      "source": [
        "#Bitwise operators-\n",
        "\n",
        "Bitwise operators perform bit-level operations on integers. They work on the binary representations of the numbers."
      ],
      "metadata": {
        "id": "c2fcSpDhmRiU"
      }
    },
    {
      "cell_type": "code",
      "source": [
        "a = 60 # 60 = 0011 1100\n",
        "b = 13 # 13 = 0000 1101\n",
        "# Binary AND\n",
        "c = a & b # 12 = 0000 1100\n",
        "print (\"a & b : \", c)\n",
        "# Binary OR\n",
        "c = a | b # 61 = 0011 1101\n",
        "print (\"a | b : \", c)\n",
        "# Binary XOR\n",
        "c = a ^ b # 49 = 0011 0001\n",
        "print (\"a ^ b : \", c)\n",
        "# Binary Ones Complement\n",
        "c = ~a; # -61 = 1100 0011\n",
        "print (\"~a : \", c)\n",
        "# Binary Left Shift\n",
        "c = a << 2; # 240 = 1111 0000\n",
        "print (\"a << 2 : \", c)\n",
        "# Binary Right Shift\n",
        "c = a >> 2; # 15 = 0000 1111\n",
        "print (\"a >> 2 : \", c)"
      ],
      "metadata": {
        "colab": {
          "base_uri": "https://localhost:8080/"
        },
        "id": "MiKOxSRkmeDH",
        "outputId": "6e816546-820a-4b5b-951d-1d68f067a0db"
      },
      "execution_count": null,
      "outputs": [
        {
          "output_type": "stream",
          "name": "stdout",
          "text": [
            "a & b :  12\n",
            "a | b :  61\n",
            "a ^ b :  49\n",
            "~a :  -61\n",
            "a << 2 :  240\n",
            "a >> 2 :  15\n"
          ]
        }
      ]
    },
    {
      "cell_type": "markdown",
      "source": [
        "#Logical operators-\n",
        "\n",
        "Logical operators are used to combine conditional statements and return a Boolean value."
      ],
      "metadata": {
        "id": "y2ei9X9ammDp"
      }
    },
    {
      "cell_type": "code",
      "source": [
        "x = 5\n",
        "y = 10\n",
        "if x > 3 and y < 15:\n",
        "  print(\"Both x and y are within the specified range\")"
      ],
      "metadata": {
        "colab": {
          "base_uri": "https://localhost:8080/"
        },
        "id": "_J0_d4kgmvdk",
        "outputId": "e211338c-ae65-475a-eb4b-ca79fe005e6b"
      },
      "execution_count": null,
      "outputs": [
        {
          "output_type": "stream",
          "name": "stdout",
          "text": [
            "Both x and y are within the specified range\n"
          ]
        }
      ]
    },
    {
      "cell_type": "markdown",
      "source": [
        "#Membership operators-\n",
        "\n",
        "Membership operators are used to test if a value or variable is found in a sequence (like a list, tuple, or string)."
      ],
      "metadata": {
        "id": "obqFfKUrmzs2"
      }
    },
    {
      "cell_type": "code",
      "source": [
        "fruits = [\"apple\", \"banana\", \"cherry\"]\n",
        "if \"banana\" in fruits:\n",
        "    print(\"Yes, banana is a fruit!\")\n",
        "else:\n",
        "    print(\"No, banana is not a fruit!\")"
      ],
      "metadata": {
        "colab": {
          "base_uri": "https://localhost:8080/"
        },
        "id": "mdQVDqjmnAl3",
        "outputId": "6ffa8295-01ef-42f7-88bd-185797350a52"
      },
      "execution_count": null,
      "outputs": [
        {
          "output_type": "stream",
          "name": "stdout",
          "text": [
            "Yes, banana is a fruit!\n"
          ]
        }
      ]
    },
    {
      "cell_type": "markdown",
      "source": [
        "#Identity operators-\n",
        "\n",
        "Identity operators compare the memory location of two objects to determine whether they are the same object."
      ],
      "metadata": {
        "id": "BKIAFp9fnHuI"
      }
    },
    {
      "cell_type": "code",
      "source": [
        "x = 10\n",
        "y = 5\n",
        "if x is y:\n",
        "    print(\"x and y are the same object\")\n",
        "else:\n",
        "    print(\"x and y are not the same object\")"
      ],
      "metadata": {
        "colab": {
          "base_uri": "https://localhost:8080/"
        },
        "id": "di0Y9jqjnSLi",
        "outputId": "35a256cf-78b5-4255-cac4-b9129b081649"
      },
      "execution_count": null,
      "outputs": [
        {
          "output_type": "stream",
          "name": "stdout",
          "text": [
            "x and y are not the same object\n"
          ]
        }
      ]
    },
    {
      "cell_type": "markdown",
      "source": [
        " Operators have precedence and associativity rules that determine the order of evaluation in expressions."
      ],
      "metadata": {
        "id": "XuOtzFfLoBuu"
      }
    },
    {
      "cell_type": "markdown",
      "source": [
        "Q 5- Explain the concept of type casting in Python with examples."
      ],
      "metadata": {
        "id": "MJrxETs2pIV6"
      }
    },
    {
      "cell_type": "markdown",
      "source": [
        "Ans- Type casting in Python refers to converting one data type into another. This is especially useful when you need to perform operations that require operands of the same data type or when you want to change the type of data explicitly to meet specific requirements.\n",
        "\n",
        "Python supports two types of type casting:\n",
        "\n",
        "1- Implicit Type Casting\n",
        "2- Explicit Type Casting\n",
        "\n"
      ],
      "metadata": {
        "id": "WgAY1hYZpNdS"
      }
    },
    {
      "cell_type": "markdown",
      "source": [
        "#Implicit Type Casting\n",
        "\n",
        "Implicit type casting occurs when Python automatically converts one data type to another during an operation. This is done to prevent data loss and ensure that operations are carried out smoothly.\n",
        "\n",
        "#Example of Implicit Type Casting-"
      ],
      "metadata": {
        "id": "rNnpnw8LqGcy"
      }
    },
    {
      "cell_type": "code",
      "source": [
        "x = 10      # Integer\n",
        "y = 2.5     # Float\n",
        "\n",
        "result = x + y  # Python automatically converts 'x' to a float\n",
        "print(result)   # Output: 12.5\n",
        "print(type(result))  # Output: <class 'float'>\n",
        "\n",
        "#In this example, Python automatically converts the integer x to a float to perform the addition with y, resulting in a float.\n"
      ],
      "metadata": {
        "colab": {
          "base_uri": "https://localhost:8080/"
        },
        "id": "2zo2EpyWqcgs",
        "outputId": "cbce49a4-a29e-4478-9fcc-e46d2fb4db2b"
      },
      "execution_count": null,
      "outputs": [
        {
          "output_type": "stream",
          "name": "stdout",
          "text": [
            "12.5\n",
            "<class 'float'>\n"
          ]
        }
      ]
    },
    {
      "cell_type": "markdown",
      "source": [
        "#Explicit Type Casting\n",
        "\n",
        "Explicit type casting is when you manually convert a data type to another using built-in functions. This is also known as type conversion.\n",
        "\n",
        "Common Functions for Explicit Type Casting:\n",
        "\n",
        " int(): Converts to an integer\n",
        "\n",
        " float(): Converts to a float\n",
        "\n",
        " str(): Converts to a string\n",
        "\n",
        " list(): Converts to a lis"
      ],
      "metadata": {
        "id": "r6e0m5sKq7sb"
      }
    },
    {
      "cell_type": "markdown",
      "source": [
        "#Example of Explicit Type Casting-\n",
        "\n",
        "Converting flot to integer"
      ],
      "metadata": {
        "id": "sV8KJNZ9r23j"
      }
    },
    {
      "cell_type": "code",
      "source": [
        "a = 5.7\n",
        "b = int(a)  # Explicitly casting float to int\n",
        "print(b)  # Output: 5\n",
        "print(type(b))  # Output: <class 'int'>\n"
      ],
      "metadata": {
        "colab": {
          "base_uri": "https://localhost:8080/"
        },
        "id": "GQhaBStBsMr2",
        "outputId": "2271cc5d-d28b-4921-bf1c-64038585109d"
      },
      "execution_count": null,
      "outputs": [
        {
          "output_type": "stream",
          "name": "stdout",
          "text": [
            "5\n",
            "<class 'int'>\n"
          ]
        }
      ]
    },
    {
      "cell_type": "markdown",
      "source": [
        "Converting String to Integer"
      ],
      "metadata": {
        "id": "_AnO3hFgsVSd"
      }
    },
    {
      "cell_type": "code",
      "source": [
        "num_str = \"123\"\n",
        "num_int = int(num_str)  # Explicitly casting string to int\n",
        "print(num_int)  # Output: 123\n",
        "print(type(num_int))  # Output: <class 'int'>\n"
      ],
      "metadata": {
        "colab": {
          "base_uri": "https://localhost:8080/"
        },
        "id": "tQvcFG7dsaNG",
        "outputId": "d044f35c-7383-4338-a635-84c37ebd2106"
      },
      "execution_count": null,
      "outputs": [
        {
          "output_type": "stream",
          "name": "stdout",
          "text": [
            "123\n",
            "<class 'int'>\n"
          ]
        }
      ]
    },
    {
      "cell_type": "markdown",
      "source": [
        " Converting Integer to String"
      ],
      "metadata": {
        "id": "OCu5_Dp6snTZ"
      }
    },
    {
      "cell_type": "code",
      "source": [],
      "metadata": {
        "id": "MIR6F9Dksoml"
      },
      "execution_count": null,
      "outputs": []
    },
    {
      "cell_type": "code",
      "source": [
        "num = 100\n",
        "num_str = str(num)  # Explicitly casting int to string\n",
        "print(num_str)  # Output: \"100\"\n",
        "print(type(num_str))  # Output: <class 'str'>\n"
      ],
      "metadata": {
        "colab": {
          "base_uri": "https://localhost:8080/"
        },
        "id": "TwPnOQ9esop4",
        "outputId": "ba0d5b52-0bc7-4c9b-be53-76d585b5d342"
      },
      "execution_count": null,
      "outputs": [
        {
          "output_type": "stream",
          "name": "stdout",
          "text": [
            "100\n",
            "<class 'str'>\n"
          ]
        }
      ]
    },
    {
      "cell_type": "markdown",
      "source": [
        "4- Converting List to Tuple"
      ],
      "metadata": {
        "id": "Rs9WY0fDsvVf"
      }
    },
    {
      "cell_type": "code",
      "source": [
        "my_list = [1, 2, 3]\n",
        "my_tuple = tuple(my_list)  # Explicitly casting list to tuple\n",
        "print(my_tuple)  # Output: (1, 2, 3)\n",
        "print(type(my_tuple))  # Output: <class 'tuple'>\n"
      ],
      "metadata": {
        "colab": {
          "base_uri": "https://localhost:8080/"
        },
        "id": "VKXu8FKoszxF",
        "outputId": "885edd4c-09f4-4e1f-b528-fc0fd2b28590"
      },
      "execution_count": null,
      "outputs": [
        {
          "output_type": "stream",
          "name": "stdout",
          "text": [
            "(1, 2, 3)\n",
            "<class 'tuple'>\n"
          ]
        }
      ]
    },
    {
      "cell_type": "markdown",
      "source": [
        "5. Converting Tuple to List-"
      ],
      "metadata": {
        "id": "Lb5yGCGBs6Kx"
      }
    },
    {
      "cell_type": "code",
      "source": [
        "my_tuple = (1, 2, 3)\n",
        "my_list = list(my_tuple)  # Explicitly casting tuple to list\n",
        "print(my_list)  # Output: [1, 2, 3]\n",
        "print(type(my_list))  # Output: <class 'list'>\n"
      ],
      "metadata": {
        "colab": {
          "base_uri": "https://localhost:8080/"
        },
        "id": "WHZ5-S12s-Up",
        "outputId": "ba5a965d-d93b-405f-d51e-c968956f6ef5"
      },
      "execution_count": null,
      "outputs": [
        {
          "output_type": "stream",
          "name": "stdout",
          "text": [
            "[1, 2, 3]\n",
            "<class 'list'>\n"
          ]
        }
      ]
    },
    {
      "cell_type": "markdown",
      "source": [],
      "metadata": {
        "id": "psCbCWW0tBq9"
      }
    },
    {
      "cell_type": "markdown",
      "source": [
        "Implicit Type Casting is automatically handled by Python and usually involves converting a lower data type (like int) to a higher one (like float) to avoid data loss.\n",
        "Explicit Type Casting requires you to manually convert data types using built-in functions like int(), float(), str(), etc.\n",
        "Type casting is essential when dealing with operations that require specific data types, such as mathematical operations, string manipulations, or data structure conversions."
      ],
      "metadata": {
        "id": "7GYzVidttUze"
      }
    },
    {
      "cell_type": "markdown",
      "source": [
        "Q 6- How do conditional statements work in Python? Illustrate with examples."
      ],
      "metadata": {
        "id": "EjRUa13ruyed"
      }
    },
    {
      "cell_type": "markdown",
      "source": [
        "Ans- Conditional statements in Python allow you to execute specific blocks of code based on certain conditions. They are fundamental in decision-making within a program, enabling different actions depending on whether a condition is true or false.\n",
        "\n",
        "Types of Conditional Statements in Python-\n",
        "\n",
        "1= 'if' Statement\n",
        "\n",
        "2= 'if-else' Statement\n",
        "\n",
        "3- 'if-elif-else' Statement\n",
        "\n",
        "4-  Nested 'if' Statements"
      ],
      "metadata": {
        "id": "Ex0estHMu2KI"
      }
    },
    {
      "cell_type": "markdown",
      "source": [
        "#1- 'if' Statement-\n",
        "\n",
        "The 'if' statement evaluates a condition, and if the condition is ;True', the block of code under it is executed. If the condition is 'False', the code block is skipped."
      ],
      "metadata": {
        "id": "WgVQdRdCvoI-"
      }
    },
    {
      "cell_type": "markdown",
      "source": [
        "if condition:\n",
        "    Code block to execute if condition is True\n"
      ],
      "metadata": {
        "id": "tBr2v8h4whnC"
      }
    },
    {
      "cell_type": "code",
      "source": [
        "x = 10\n",
        "\n",
        "if x > 5:\n",
        "    print(\"x is greater than 5\")  # This line will be executed\n",
        "\n",
        "#In this example, since 'x' is '10', which is greater than '5', the condition is true, so the message is printed.\n"
      ],
      "metadata": {
        "colab": {
          "base_uri": "https://localhost:8080/"
        },
        "id": "kCPW6zP8v5Ds",
        "outputId": "2a7e30b0-0bc3-451f-b6a8-e9ed8b88c08b"
      },
      "execution_count": null,
      "outputs": [
        {
          "output_type": "stream",
          "name": "stdout",
          "text": [
            "x is greater than 5\n"
          ]
        }
      ]
    },
    {
      "cell_type": "markdown",
      "source": [
        "#2- 'if-else' Statement\n",
        "\n",
        "The 'if-else' statement provides an alternative action if the condition is 'False'. If the condition is 'True', the if block is executed; otherwise, the 'else' block is executed."
      ],
      "metadata": {
        "id": "g9hzQInmxY-f"
      }
    },
    {
      "cell_type": "markdown",
      "source": [
        " #Syntax\n",
        "\n",
        "   #if condition:\n",
        "\n",
        "code block to execute if condition is True\n",
        "    \n",
        "   #else:\n",
        "\n",
        " code block to execute if condition is False\n",
        "    \n"
      ],
      "metadata": {
        "id": "PwZuo2AUx2r5"
      }
    },
    {
      "cell_type": "code",
      "source": [
        "x = 3\n",
        "\n",
        "if x > 5:\n",
        "    print(\"x is greater than 5\")\n",
        "else:\n",
        "    print(\"x is not greater than 5\")  # This line will be executed\n"
      ],
      "metadata": {
        "colab": {
          "base_uri": "https://localhost:8080/"
        },
        "id": "4gs9gXRix9gT",
        "outputId": "5c82c398-782c-47e1-af1a-c3625742eb2c"
      },
      "execution_count": null,
      "outputs": [
        {
          "output_type": "stream",
          "name": "stdout",
          "text": [
            "x is not greater than 5\n"
          ]
        }
      ]
    },
    {
      "cell_type": "markdown",
      "source": [
        "Here, since 'x' is '3', which is not greater than '5', the condition is false, so the 'else' block is executed, and the message is printed."
      ],
      "metadata": {
        "id": "u95Vbu5JzEeP"
      }
    },
    {
      "cell_type": "markdown",
      "source": [
        "#3. 'if-elif-else' Statement-\n",
        "\n",
        "The 'if-elif-else' statement is used to check multiple conditions. The 'elif' (short for \"else if\") allows you to check additional conditions if the previous ones are false. Only the first true condition's block is executed, and the rest are skipped.\n",
        "\n"
      ],
      "metadata": {
        "id": "ZVSbmGmDzanb"
      }
    },
    {
      "cell_type": "markdown",
      "source": [
        " #Syntax\n",
        "\n",
        "if condition1:\n",
        "\n",
        " code block to execute if condition1 is True\n",
        "\n",
        "elif condition2:\n",
        "\n",
        "code block to execute if condition2 is True\n",
        "\n",
        "else:\n",
        "\n",
        "code block to execute if all conditions are False\n"
      ],
      "metadata": {
        "id": "DOWQepPN0JEA"
      }
    },
    {
      "cell_type": "code",
      "source": [
        "x = 8\n",
        "\n",
        "if x > 10:\n",
        "    print(\"x is greater than 10\")\n",
        "elif x > 5:\n",
        "    print(\"x is greater than 5 but less than or equal to 10\")  # This line will be executed\n",
        "else:\n",
        "    print(\"x is 5 or less\")\n",
        "#In this example, the first condition x > 10 is false, but the second condition x > 5 is true, so the corresponding block is executed."
      ],
      "metadata": {
        "colab": {
          "base_uri": "https://localhost:8080/"
        },
        "id": "kWArMgb_0taB",
        "outputId": "88c11346-0f88-467b-dccf-21c74a24b7f2"
      },
      "execution_count": null,
      "outputs": [
        {
          "output_type": "stream",
          "name": "stdout",
          "text": [
            "x is greater than 5 but less than or equal to 10\n"
          ]
        }
      ]
    },
    {
      "cell_type": "markdown",
      "source": [
        "#4. Nested 'if' Statements-\n",
        "\n",
        "We can nest if statements within other if, elif, or else blocks. This allows you to check additional conditions within a specific condition."
      ],
      "metadata": {
        "id": "U0McYtxu1DJU"
      }
    },
    {
      "cell_type": "markdown",
      "source": [
        " #Syntax\n",
        "\n",
        " if condition1:\n",
        "\n",
        "  code block for condition1\n",
        "\n",
        "  if condition2:\n",
        "\n",
        "  code block for condition2\n",
        "\n",
        "  else:\n",
        "\n",
        "   code block if condition2 is False\n",
        "\n",
        "else:\n",
        "\n",
        "  code block if condition1 is False\n"
      ],
      "metadata": {
        "id": "4U6vzSUZ1UVS"
      }
    },
    {
      "cell_type": "code",
      "source": [
        "x = 15\n",
        "\n",
        "if x > 10:\n",
        "    print(\"x is greater than 10\")  # This line will be executed\n",
        "    if x % 2 == 0:\n",
        "        print(\"x is even\")\n",
        "    else:\n",
        "        print(\"x is odd\")  # This line will be executed\n",
        "else:\n",
        "    print(\"x is 10 or less\")\n"
      ],
      "metadata": {
        "colab": {
          "base_uri": "https://localhost:8080/"
        },
        "id": "VlCFqOHC2Eiw",
        "outputId": "bc53a90c-d080-4294-f74d-40eef79b7de0"
      },
      "execution_count": null,
      "outputs": [
        {
          "output_type": "stream",
          "name": "stdout",
          "text": [
            "x is greater than 10\n",
            "x is odd\n"
          ]
        }
      ]
    },
    {
      "cell_type": "markdown",
      "source": [
        "  #In this example, since 'x' is '15', the first condition 'x > 10' is true, so the first block is executed. Inside it, there's another condition checking if 'x' is even. Since ;15' is odd, the 'else' block within the nested 'if' is executed."
      ],
      "metadata": {
        "id": "gX7wbPRD2ODH"
      }
    },
    {
      "cell_type": "markdown",
      "source": [
        "Understanding conditional statements is fundamental to controlling the flow of your Python programs and making them respond dynamically to different inputs and scenarios.\n",
        "\n",
        "\n",
        "\n",
        "\n",
        "\n",
        "\n"
      ],
      "metadata": {
        "id": "pJx_Axha2oRT"
      }
    },
    {
      "cell_type": "markdown",
      "source": [
        "Q 7-Describe the different types of loops in Python and their use cases with examples."
      ],
      "metadata": {
        "id": "LdH_oiHX3XKu"
      }
    },
    {
      "cell_type": "markdown",
      "source": [
        "Ans- In Python, loops are employed to repeat a sequence of actions or code until a specific condition is fulfilled.\n",
        "Python offers two primary types of loops: for loops and while loops.\n",
        "“for” loops are used for iterating over a sequence of elements, while “while” loops are used for executing code until a specified condition becomes False."
      ],
      "metadata": {
        "id": "b3wGGn175EIY"
      }
    },
    {
      "cell_type": "markdown",
      "source": [
        "#1 - 'for' Loop-\n",
        "\n",
        "A for loop is a control flow statement in Python that allows you to iterate over a sequence of elements such as a list, tuple, or string.\n",
        "On each iteration, the loop variable in Python will take on the value of the next item in the sequence.\n",
        "\n",
        " #Syntax:\n",
        "\n",
        " for variable in sequence:\n",
        "  \n",
        "  code block to execute\n",
        "\n",
        "  #Example\n",
        "\n",
        "  Iterating Over a List:-\n"
      ],
      "metadata": {
        "id": "XlCT_Om-6UJN"
      }
    },
    {
      "cell_type": "code",
      "source": [
        "fruits = [\"apple\", \"banana\", \"cherry\"]\n",
        "for fruit in fruits:\n",
        "    print(fruit)\n",
        "\n",
        "#In this example, the 'for' loop iterates over each item in the 'fruits' list and prints it."
      ],
      "metadata": {
        "colab": {
          "base_uri": "https://localhost:8080/"
        },
        "id": "C6DoP3yU7kuB",
        "outputId": "e35f7dac-f14b-4cf4-8b85-daf1b66d2214"
      },
      "execution_count": null,
      "outputs": [
        {
          "output_type": "stream",
          "name": "stdout",
          "text": [
            "apple\n",
            "banana\n",
            "cherry\n"
          ]
        }
      ]
    },
    {
      "cell_type": "markdown",
      "source": [
        " #Exampe 2- Using 'range()' with 'for' Loop\n",
        "\n"
      ],
      "metadata": {
        "id": "MFZ0cl8_7vyJ"
      }
    },
    {
      "cell_type": "code",
      "source": [
        "for i in range(5):\n",
        "    print(i)\n",
        "\n",
        "#Here, the 'for' loop iterates from '0' to '4' (since 'range(5)' generates numbers from '0' to '4'), printing each number.\n"
      ],
      "metadata": {
        "colab": {
          "base_uri": "https://localhost:8080/"
        },
        "id": "5AMIBwTo8aFF",
        "outputId": "257d0431-1c2e-4267-ab8b-ab3a9214932b"
      },
      "execution_count": null,
      "outputs": [
        {
          "output_type": "stream",
          "name": "stdout",
          "text": [
            "0\n",
            "1\n",
            "2\n",
            "3\n",
            "4\n"
          ]
        }
      ]
    },
    {
      "cell_type": "markdown",
      "source": [
        "#2. 'while' Loop-\n",
        "\n",
        "The 'while' loop in Python repeatedly executes a block of code as long as a given condition is 'True'. The loop stops when the condition becomes 'False'.\n",
        "\n",
        " #Syntax:\n",
        "\n",
        " while condition:\n",
        "\n",
        "  #code block to execute\n",
        "\n",
        " #Example:- Counting Down with while Loop\n"
      ],
      "metadata": {
        "id": "8GddfdZF81mv"
      }
    },
    {
      "cell_type": "code",
      "source": [
        "count = 5\n",
        "while count > 0:\n",
        "    print(count)\n",
        "    count -= 1\n",
        "#In this example, the 'while' loop runs as long as count is greater than '0'. After each iteration, count is decremented by '1', and the loop stops when count becomes '0'."
      ],
      "metadata": {
        "colab": {
          "base_uri": "https://localhost:8080/"
        },
        "id": "SuARKxou91P3",
        "outputId": "1c6de53e-5111-4f6c-aa71-deffd72fb48e"
      },
      "execution_count": null,
      "outputs": [
        {
          "output_type": "stream",
          "name": "stdout",
          "text": [
            "5\n",
            "4\n",
            "3\n",
            "2\n",
            "1\n"
          ]
        }
      ]
    },
    {
      "cell_type": "markdown",
      "source": [
        " #Understanding these loops and their is essential for controlling the flow of a program and efficiently processing data in Python."
      ],
      "metadata": {
        "id": "a1q3jTpg_1MI"
      }
    }
  ]
}